{
  "nbformat": 4,
  "nbformat_minor": 0,
  "metadata": {
    "colab": {
      "provenance": [],
      "authorship_tag": "ABX9TyPduRrkxFJB0KzxRsZbO7zN",
      "include_colab_link": true
    },
    "kernelspec": {
      "name": "python3",
      "display_name": "Python 3"
    },
    "language_info": {
      "name": "python"
    }
  },
  "cells": [
    {
      "cell_type": "markdown",
      "metadata": {
        "id": "view-in-github",
        "colab_type": "text"
      },
      "source": [
        "<a href=\"https://colab.research.google.com/github/AvK1002/Python-Problems/blob/main/Python_Practice_Day2.ipynb\" target=\"_parent\"><img src=\"https://colab.research.google.com/assets/colab-badge.svg\" alt=\"Open In Colab\"/></a>"
      ]
    },
    {
      "cell_type": "markdown",
      "source": [
        "# 1. Given the string \"Hello, World!\", extract and print the substring \"Hello\"."
      ],
      "metadata": {
        "id": "QVbRKhFG3_E8"
      }
    },
    {
      "cell_type": "code",
      "execution_count": 1,
      "metadata": {
        "colab": {
          "base_uri": "https://localhost:8080/"
        },
        "id": "wyCnOH6r30zV",
        "outputId": "8fbdc9d2-214a-49c7-d29f-9c23cabc2b6c"
      },
      "outputs": [
        {
          "output_type": "stream",
          "name": "stdout",
          "text": [
            "Hello\n"
          ]
        }
      ],
      "source": [
        "print(\"Hello, World!\"[0:5])"
      ]
    },
    {
      "cell_type": "markdown",
      "source": [
        "# 2. Given the string \"Python is fun\", extract and print the substring \"is\"."
      ],
      "metadata": {
        "id": "dMXDGquI4P46"
      }
    },
    {
      "cell_type": "code",
      "source": [
        "print(\"Python is fun\"[7:10])"
      ],
      "metadata": {
        "colab": {
          "base_uri": "https://localhost:8080/"
        },
        "id": "xf7Bk1wv4HEO",
        "outputId": "85bd78b2-da20-4621-b891-3f2afa940181"
      },
      "execution_count": 2,
      "outputs": [
        {
          "output_type": "stream",
          "name": "stdout",
          "text": [
            "is \n"
          ]
        }
      ]
    },
    {
      "cell_type": "markdown",
      "source": [
        "# 3. Given the string \"Programming\", extract and print the substring \"gram\" using slicing indices."
      ],
      "metadata": {
        "id": "qrIvr5Dz4W4D"
      }
    },
    {
      "cell_type": "code",
      "source": [
        "print(\"Programming\"[3:7])"
      ],
      "metadata": {
        "colab": {
          "base_uri": "https://localhost:8080/"
        },
        "id": "2YlHJ6-M4Ua2",
        "outputId": "449be649-59ed-41c1-e1d7-b26c3f20930b"
      },
      "execution_count": 3,
      "outputs": [
        {
          "output_type": "stream",
          "name": "stdout",
          "text": [
            "gram\n"
          ]
        }
      ]
    },
    {
      "cell_type": "markdown",
      "source": [
        "# 4. Given the string \"abcdefgh\", use slicing to print only the characters at even indices."
      ],
      "metadata": {
        "id": "ibXNoE7E4eM-"
      }
    },
    {
      "cell_type": "code",
      "source": [
        "print(\"abcdefgh\"[::2])"
      ],
      "metadata": {
        "colab": {
          "base_uri": "https://localhost:8080/"
        },
        "id": "98foEh3g4dIA",
        "outputId": "e9276a83-62ac-4ff8-ce1d-a41d4f81a96a"
      },
      "execution_count": 4,
      "outputs": [
        {
          "output_type": "stream",
          "name": "stdout",
          "text": [
            "aceg\n"
          ]
        }
      ]
    },
    {
      "cell_type": "markdown",
      "source": [
        "# 5. Given the string \"abcdefg\", use negative indices to extract and print the substring \"efg\"."
      ],
      "metadata": {
        "id": "bZOW13wE4lx1"
      }
    },
    {
      "cell_type": "code",
      "source": [
        "print(\"abcdefg\"[-3:])"
      ],
      "metadata": {
        "colab": {
          "base_uri": "https://localhost:8080/"
        },
        "id": "ZPwfQViw4lGq",
        "outputId": "1e349f97-d8f3-4139-b694-de318302418b"
      },
      "execution_count": 7,
      "outputs": [
        {
          "output_type": "stream",
          "name": "stdout",
          "text": [
            "efg\n"
          ]
        }
      ]
    },
    {
      "cell_type": "markdown",
      "source": [
        "# 6. Given the string \"Data Science\", use negative indices to extract and print the last three characters."
      ],
      "metadata": {
        "id": "iAvCEQgb497o"
      }
    },
    {
      "cell_type": "code",
      "source": [
        "print(\"Data Science\"[-3:])"
      ],
      "metadata": {
        "colab": {
          "base_uri": "https://localhost:8080/"
        },
        "id": "lMDkI32D4zL5",
        "outputId": "a18e642e-76aa-4b27-c961-303ac43087e4"
      },
      "execution_count": 8,
      "outputs": [
        {
          "output_type": "stream",
          "name": "stdout",
          "text": [
            "nce\n"
          ]
        }
      ]
    },
    {
      "cell_type": "markdown",
      "source": [
        "# 7. Given the string \"abcdefghij\", use slicing with a step to print every second character."
      ],
      "metadata": {
        "id": "YF7Qp3Ue5Tep"
      }
    },
    {
      "cell_type": "code",
      "source": [
        "print(\"abcdefghij\"[::2])"
      ],
      "metadata": {
        "colab": {
          "base_uri": "https://localhost:8080/"
        },
        "id": "ho68bpNB5R3h",
        "outputId": "57b3c7ef-581a-4768-bdb5-71c12508949f"
      },
      "execution_count": 9,
      "outputs": [
        {
          "output_type": "stream",
          "name": "stdout",
          "text": [
            "acegi\n"
          ]
        }
      ]
    },
    {
      "cell_type": "markdown",
      "source": [
        "# 8. Given the string \"1234567890\", use slicing with a step to print the odd digits."
      ],
      "metadata": {
        "id": "p-0wQpCJ5auK"
      }
    },
    {
      "cell_type": "code",
      "source": [
        "print(\"1234567890\"[0::2])"
      ],
      "metadata": {
        "colab": {
          "base_uri": "https://localhost:8080/"
        },
        "id": "JZSsEMh85ZuJ",
        "outputId": "32b51b4b-07f2-4dac-f4a4-a0fae4dcc3d5"
      },
      "execution_count": 13,
      "outputs": [
        {
          "output_type": "stream",
          "name": "stdout",
          "text": [
            "13579\n"
          ]
        }
      ]
    },
    {
      "cell_type": "markdown",
      "source": [
        "# 9. Given the string \"Hello\", use slicing to print the string in reverse order."
      ],
      "metadata": {
        "id": "5Xqgw6bT5tz4"
      }
    },
    {
      "cell_type": "code",
      "source": [
        "print(\"Hello\"[::-1])"
      ],
      "metadata": {
        "colab": {
          "base_uri": "https://localhost:8080/"
        },
        "id": "x9px50_m5ifB",
        "outputId": "d8b4ccf9-847f-4f7c-bdec-824d946cb67b"
      },
      "execution_count": 14,
      "outputs": [
        {
          "output_type": "stream",
          "name": "stdout",
          "text": [
            "olleH\n"
          ]
        }
      ]
    },
    {
      "cell_type": "markdown",
      "source": [
        "# 10. Given the string \"abcdefghijk\", extract and print the substring \"acegik\" using slicing."
      ],
      "metadata": {
        "id": "2pNedN2V53MY"
      }
    },
    {
      "cell_type": "code",
      "source": [
        "print(\"abcdefghijk\"[::2])"
      ],
      "metadata": {
        "colab": {
          "base_uri": "https://localhost:8080/"
        },
        "id": "mxYx46ZF51iL",
        "outputId": "325e640a-d451-4c70-ba18-71afca56c915"
      },
      "execution_count": 15,
      "outputs": [
        {
          "output_type": "stream",
          "name": "stdout",
          "text": [
            "acegik\n"
          ]
        }
      ]
    },
    {
      "cell_type": "markdown",
      "source": [
        "# 11. Write a program to find sum of all elements in a list of integers."
      ],
      "metadata": {
        "id": "IBzSBv2z59zf"
      }
    },
    {
      "cell_type": "code",
      "source": [
        "print(sum([1,2,3,4,5]))"
      ],
      "metadata": {
        "colab": {
          "base_uri": "https://localhost:8080/"
        },
        "id": "bYSdhyLl58eJ",
        "outputId": "92163db8-7275-4b57-a0c7-5b4c92ddfb8d"
      },
      "execution_count": 16,
      "outputs": [
        {
          "output_type": "stream",
          "name": "stdout",
          "text": [
            "15\n"
          ]
        }
      ]
    },
    {
      "cell_type": "markdown",
      "source": [
        "# 12. Input a sentence as a string.\n",
        "a) Print its length\n",
        "\n",
        "b) Print the first half of string\n"
      ],
      "metadata": {
        "id": "bQzEGT6j6HiB"
      }
    },
    {
      "cell_type": "code",
      "source": [
        "x = input(\"Enter a sentence: \")\n",
        "print(len(x))\n",
        "print(x[:len(x)//2])"
      ],
      "metadata": {
        "colab": {
          "base_uri": "https://localhost:8080/"
        },
        "id": "aYXWFlTg6EQL",
        "outputId": "56fb75b6-c7e4-4365-a367-80f566b9ef0e"
      },
      "execution_count": 17,
      "outputs": [
        {
          "output_type": "stream",
          "name": "stdout",
          "text": [
            "Enter a sentence: Aswin\n",
            "5\n",
            "As\n"
          ]
        }
      ]
    },
    {
      "cell_type": "markdown",
      "source": [
        "# 13. Write a program to enter a tuple of integers as (78,45,32,19,82,77,40,39). Change the third value in the tuple to 100"
      ],
      "metadata": {
        "id": "fsil51dv6WKB"
      }
    },
    {
      "cell_type": "code",
      "source": [
        "num = (78, 45, 32, 19, 82, 77, 40, 39)\n",
        "my_list = list(num)\n",
        "my_list[2] = 100\n",
        "new_tuple = tuple(my_list)\n",
        "print(new_tuple)\n"
      ],
      "metadata": {
        "colab": {
          "base_uri": "https://localhost:8080/"
        },
        "id": "So3RtdPU6SEJ",
        "outputId": "266b642e-911a-41d3-e0e3-c9d21c808cfd"
      },
      "execution_count": 18,
      "outputs": [
        {
          "output_type": "stream",
          "name": "stdout",
          "text": [
            "(78, 45, 100, 19, 82, 77, 40, 39)\n"
          ]
        }
      ]
    },
    {
      "cell_type": "markdown",
      "source": [
        "# 14. Consider a list\n",
        "listA=[19,32,10,55,31,32,94,29,10,65,77,40,40]\n",
        "\n",
        "(a) Delete the first occurrence of 32\n",
        "\n",
        "(b) Delete all occurrences of 40\n",
        "\n",
        "(c) Delete the value at index=5\n",
        "\n",
        "(d) Modify the value at index=9 as 300\n",
        "\n",
        "(e) Add 200 at index=2\n",
        "\n",
        "(f) Print the final list with its length, maximum value\n",
        "and sum of all elements\n",
        "\n"
      ],
      "metadata": {
        "id": "odD9NBav63B4"
      }
    },
    {
      "cell_type": "code",
      "source": [
        "listA = [19,32,10,55,31,32,94,29,10,65,77,40,40]\n",
        "listA.remove(32)\n",
        "while 40 in listA:\n",
        "    listA.remove(40)\n",
        "del listA[5]\n",
        "listA[8] = 300\n",
        "listA.insert(2, 200)\n",
        "print(\"Final list:\", listA)\n",
        "print(\"Length of the list:\", len(listA))\n",
        "print(\"Maximum value in the list:\", max(listA))\n",
        "print(\"Sum of all elements in the list:\", sum(listA))\n"
      ],
      "metadata": {
        "colab": {
          "base_uri": "https://localhost:8080/"
        },
        "id": "GHaZAV7n7Mcl",
        "outputId": "e7bb734c-9779-4d28-ec45-80efc39c0682"
      },
      "execution_count": 20,
      "outputs": [
        {
          "output_type": "stream",
          "name": "stdout",
          "text": [
            "Final list: [19, 10, 200, 55, 31, 32, 29, 10, 65, 300]\n",
            "Length of the list: 10\n",
            "Maximum value in the list: 300\n",
            "Sum of all elements in the list: 751\n"
          ]
        }
      ]
    },
    {
      "cell_type": "markdown",
      "source": [
        "# 15. Consider a string ”The day has been long”.\n",
        "\n",
        "(a) Delete the value at index =4\n",
        "\n",
        "(b) Print the string 4 times in a single line with space\n",
        "between each repetition\n",
        "\n",
        "(c) Print the string 3 times in a new line each time\n",
        "\n",
        "(d) Modify the string at index 7 as ’A’\n",
        "\n",
        "(e) Print the string from index 4 to 15\n",
        "\n",
        "(f) Print the final string with its length"
      ],
      "metadata": {
        "id": "iy-M3VR47cgx"
      }
    },
    {
      "cell_type": "code",
      "source": [
        "string1 = \"The day has been long\"\n",
        "list1 = list(string1)\n",
        "del list1[4]\n",
        "string1 = \"\".join(list1)\n",
        "print((string1 + \" \") * 4)\n",
        "print((string1 + \"\\n\") * 3)\n",
        "list1 = list(string1)\n",
        "list1[7] = 'A'\n",
        "string1 = \"\".join(list1)\n",
        "print(string1[4:16])\n",
        "print(\"Final string: \", string1)\n",
        "print(\"Length of the final string: \", len(string1))\n"
      ],
      "metadata": {
        "colab": {
          "base_uri": "https://localhost:8080/"
        },
        "id": "wV8lyVOV7ND3",
        "outputId": "816a8dab-2011-4d4e-e6d2-48caacd8a58c"
      },
      "execution_count": 21,
      "outputs": [
        {
          "output_type": "stream",
          "name": "stdout",
          "text": [
            "The ay has been long The ay has been long The ay has been long The ay has been long \n",
            "The ay has been long\n",
            "The ay has been long\n",
            "The ay has been long\n",
            "\n",
            "ay Aas been \n",
            "Final string:  The ay Aas been long\n",
            "Length of the final string:  20\n"
          ]
        }
      ]
    }
  ]
}