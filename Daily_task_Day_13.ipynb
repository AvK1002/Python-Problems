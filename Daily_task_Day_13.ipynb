{
  "nbformat": 4,
  "nbformat_minor": 0,
  "metadata": {
    "colab": {
      "provenance": [],
      "authorship_tag": "ABX9TyMDqz3uuy1+FX3cDYcu1ONw",
      "include_colab_link": true
    },
    "kernelspec": {
      "name": "python3",
      "display_name": "Python 3"
    },
    "language_info": {
      "name": "python"
    }
  },
  "cells": [
    {
      "cell_type": "markdown",
      "metadata": {
        "id": "view-in-github",
        "colab_type": "text"
      },
      "source": [
        "<a href=\"https://colab.research.google.com/github/AvK1002/Python-Problems/blob/main/Daily_task_Day_13.ipynb\" target=\"_parent\"><img src=\"https://colab.research.google.com/assets/colab-badge.svg\" alt=\"Open In Colab\"/></a>"
      ]
    },
    {
      "cell_type": "markdown",
      "source": [
        "# 1. Take input of age of 3 people by user and determine oldest and youngest among them"
      ],
      "metadata": {
        "id": "1-WYidjt9HPE"
      }
    },
    {
      "cell_type": "code",
      "source": [
        "a = int(input(\"Enter age of first person: \"))\n",
        "b = int(input(\"Enter age of second person: \"))\n",
        "c = int(input(\"Enter age of third person: \"))\n",
        "if a>b and a>c:\n",
        "    print(\"First person is oldest\")\n",
        "elif b>a and b>c:\n",
        "    print(\"Second person is oldest\")\n",
        "else:\n",
        "    print(\"Third person is oldest\")\n",
        "\n",
        "if a<b and a<c:\n",
        "  print(\"First person is youngest\")\n",
        "elif b<a and b<c:\n",
        "  print(\"Second person is youngest\")\n",
        "else:\n",
        "  print(\"Third person is youngest\")"
      ],
      "metadata": {
        "colab": {
          "base_uri": "https://localhost:8080/"
        },
        "id": "W0-lOsPZhKio",
        "outputId": "296fce24-ce02-4d7d-bfb1-e0d6d71a2d71"
      },
      "execution_count": 2,
      "outputs": [
        {
          "output_type": "stream",
          "name": "stdout",
          "text": [
            "Enter age of first person: 25\n",
            "Enter age of second person: 8\n",
            "Enter age of third person: 40\n",
            "Third person is oldest\n",
            "Second person is youngest\n"
          ]
        }
      ]
    },
    {
      "cell_type": "markdown",
      "source": [
        "# 2. Write a program that asks the user for their exam score and calculates their grade based on the following conditions:\n",
        "\n",
        "a. A score of 90 or above is an A.\n",
        "\n",
        "b. A score between 80 and 89 is a B.\n",
        "\n",
        "c. A score between 70 and 79 is a C.\n",
        "\n",
        "d. A score below 70 is an F."
      ],
      "metadata": {
        "id": "Fk5E8vaNhRlj"
      }
    },
    {
      "cell_type": "code",
      "source": [
        "score = int(input(\"Enter your exam score: \"))\n",
        "\n",
        "if score >= 90:\n",
        "  grade = \"A\"\n",
        "elif score >= 80:\n",
        "  grade = \"B\"\n",
        "elif score >= 70:\n",
        "  grade = \"C\"\n",
        "else:\n",
        "  grade = \"F\"\n",
        "\n",
        "print(\"Your grade is:\", grade)\n"
      ],
      "metadata": {
        "colab": {
          "base_uri": "https://localhost:8080/"
        },
        "id": "Cgr7XCX-hLPj",
        "outputId": "7acdebbf-d731-4739-d882-f7a99e37201e"
      },
      "execution_count": 3,
      "outputs": [
        {
          "output_type": "stream",
          "name": "stdout",
          "text": [
            "Enter your exam score: 78\n",
            "Your grade is: C\n"
          ]
        }
      ]
    },
    {
      "cell_type": "markdown",
      "source": [
        "# 3. Create a program that asks the user for a list of grocery items they need to buy and organizes the list alphabetically."
      ],
      "metadata": {
        "id": "Jm94Vhdchnwg"
      }
    },
    {
      "cell_type": "code",
      "source": [
        "grocery_list = input(\"Enter grocery items separated by commas: \").split(',')\n",
        "grocery_list = [item.strip() for item in grocery_list]\n",
        "grocery_list.sort()\n",
        "print(\"Organized grocery list:\", grocery_list)\n"
      ],
      "metadata": {
        "colab": {
          "base_uri": "https://localhost:8080/"
        },
        "id": "nfq07IcxhkvT",
        "outputId": "50b4cbea-6cca-4a95-9157-c623fe6c2832"
      },
      "execution_count": 4,
      "outputs": [
        {
          "output_type": "stream",
          "name": "stdout",
          "text": [
            "Enter grocery items separated by commas: tomato, chilli, cabbage, fruits\n",
            "Organized grocery list: ['cabbage', 'chilli', 'fruits', 'tomato']\n"
          ]
        }
      ]
    },
    {
      "cell_type": "markdown",
      "source": [
        "# 4. Write a program that asks the user for an email address and checks if it is valid (contains an \"@\" symbol and a valid domain)."
      ],
      "metadata": {
        "id": "KvRrCgnmiD9m"
      }
    },
    {
      "cell_type": "code",
      "source": [
        "import re\n",
        "\n",
        "def is_valid_email(email):\n",
        "  if \"@\" not in email:\n",
        "    return False\n",
        "\n",
        "  parts = email.split(\"@\")\n",
        "  if len(parts) != 2:\n",
        "    return False\n",
        "\n",
        "  domain = parts[1]\n",
        "  if not re.match(r\"^[A-Za-z0-9.-]+\\.[A-Za-z]{2,}$\", domain):\n",
        "    return False\n",
        "\n",
        "  return True\n",
        "\n",
        "email = input(\"Enter an email address: \")\n",
        "if is_valid_email(email):\n",
        "  print(\"Valid email address\")\n",
        "else:\n",
        "  print(\"Invalid email address\")\n"
      ],
      "metadata": {
        "colab": {
          "base_uri": "https://localhost:8080/"
        },
        "id": "moKY25yOh2qQ",
        "outputId": "3d26f8ae-681b-4f97-b22c-96e2dad87bb1"
      },
      "execution_count": 7,
      "outputs": [
        {
          "output_type": "stream",
          "name": "stdout",
          "text": [
            "Enter an email address: aswin@gmail.com\n",
            "Valid email address\n"
          ]
        }
      ]
    },
    {
      "cell_type": "markdown",
      "source": [
        "# 5. Create a program that asks the user for the number of days they have delayed returning a library book. If the delay is less than or equal to 7 days, there is no fine. If the delay is between 8 and 30 days, apply a fine of 2 rupees per day. If the delay is more than 30 days, apply a fine of 5 rupees per day. Print the total fine amount."
      ],
      "metadata": {
        "id": "tsf92cZCim30"
      }
    },
    {
      "cell_type": "code",
      "source": [
        "days_delayed = int(input(\"Enter the number of days delayed: \"))\n",
        "fine = 0\n",
        "\n",
        "if days_delayed <= 7:\n",
        "  fine = 0\n",
        "elif days_delayed <= 30:\n",
        "  fine = (days_delayed - 7) * 2\n",
        "else:\n",
        "  fine = 23 * 2 + (days_delayed - 30) * 5\n",
        "\n",
        "print(\"Total fine amount: \", fine, \"rupees\")\n"
      ],
      "metadata": {
        "colab": {
          "base_uri": "https://localhost:8080/"
        },
        "id": "wvfRK3OjiXnQ",
        "outputId": "1cc14f6d-a7b7-48e6-ccfd-413d0176320b"
      },
      "execution_count": 8,
      "outputs": [
        {
          "output_type": "stream",
          "name": "stdout",
          "text": [
            "Enter the number of days delayed: 31\n",
            "Total fine amount:  51 rupees\n"
          ]
        }
      ]
    },
    {
      "cell_type": "markdown",
      "source": [
        "# 6. Write a program that checks if a given character is a vowel. Use the in operator to check if the character is present in a string of vowels (\"aeiou\")."
      ],
      "metadata": {
        "id": "4KXrAFbLkmS_"
      }
    },
    {
      "cell_type": "code",
      "source": [
        "char = input(\"Enter a character: \").lower()\n",
        "vowels = \"aeiou\"\n",
        "\n",
        "if char in vowels:\n",
        "  print(\"The character is a vowel.\")\n",
        "else:\n",
        "  print(\"The character is not a vowel.\")\n"
      ],
      "metadata": {
        "colab": {
          "base_uri": "https://localhost:8080/"
        },
        "id": "nSOsK1tijFCH",
        "outputId": "957f67c7-5ca3-4863-8058-43c8214a43af"
      },
      "execution_count": 11,
      "outputs": [
        {
          "output_type": "stream",
          "name": "stdout",
          "text": [
            "Enter a character: a\n",
            "The character is a vowel.\n"
          ]
        }
      ]
    },
    {
      "cell_type": "markdown",
      "source": [
        "# 7. Implement a program that calculates the factorial of a number using a loop.\n"
      ],
      "metadata": {
        "id": "Y66cwKfTk8OS"
      }
    },
    {
      "cell_type": "code",
      "source": [
        "num = int(input(\"Enter a number: \"))\n",
        "factorial = 1\n",
        "\n",
        "if num < 0:\n",
        "  print(\"Factorial is not defined for negative numbers.\")\n",
        "elif num == 0:\n",
        "  print(\"The factorial of 0 is 1.\")\n",
        "else:\n",
        "  for i in range(1, num + 1):\n",
        "    factorial *= i\n",
        "  print(\"The factorial of\", num, \"is\", factorial)\n"
      ],
      "metadata": {
        "colab": {
          "base_uri": "https://localhost:8080/"
        },
        "id": "EYFnKh2FlJYT",
        "outputId": "18466c83-064b-4033-94a2-50fa98403f62"
      },
      "execution_count": 12,
      "outputs": [
        {
          "output_type": "stream",
          "name": "stdout",
          "text": [
            "Enter a number: 5\n",
            "The factorial of 5 is 120\n"
          ]
        }
      ]
    },
    {
      "cell_type": "markdown",
      "source": [
        "# 8. Generate the Fibonacci sequence (0, 1, 1, 2, 3, ...) up to a certain limit using a loop.\n"
      ],
      "metadata": {
        "id": "fKj3ToUJlOPn"
      }
    },
    {
      "cell_type": "code",
      "source": [
        "limit = int(input(\"Enter the limit for Fibonacci sequence: \"))\n",
        "\n",
        "a, b = 0, 1\n",
        "\n",
        "print(a, end=\" \")\n",
        "if limit > 1:\n",
        "  print(b, end=\" \")\n",
        "\n",
        "for i in range(2, limit):\n",
        "  next_num = a + b\n",
        "  print(next_num, end=\" \")\n",
        "  a, b = b, next_num\n"
      ],
      "metadata": {
        "colab": {
          "base_uri": "https://localhost:8080/"
        },
        "id": "ERPENOvrlK8-",
        "outputId": "e209d3c3-74ea-4d99-ff4a-2b83a3e639b2"
      },
      "execution_count": 13,
      "outputs": [
        {
          "output_type": "stream",
          "name": "stdout",
          "text": [
            "Enter the limit for Fibonacci sequence: 5\n",
            "0 1 1 2 3 "
          ]
        }
      ]
    },
    {
      "cell_type": "markdown",
      "source": [
        "# 9. Create a number guessing game where the computer generates a random number and the user has to guess it within a certain number of attempts using a loop."
      ],
      "metadata": {
        "id": "RlaCuNzNldtS"
      }
    },
    {
      "cell_type": "code",
      "source": [
        "import random\n",
        "\n",
        "number = random.randint(1, 100)\n",
        "attempts = 10\n",
        "\n",
        "print(\"Guess the number.\")\n",
        "\n",
        "for i in range(attempts):\n",
        "  guess = int(input(\"Enter your guess: \"))\n",
        "\n",
        "  if guess < number:\n",
        "    print(\"Too low!:\", attempts - i - 1)\n",
        "  elif guess > number:\n",
        "    print(\"Too high!:\", attempts - i - 1)\n",
        "  else:\n",
        "    print(\"You guessed the number in\", i + 1, \"attempts.\")\n",
        "    break\n",
        "\n",
        "if guess != number:\n",
        "  print(\"You ran out of attempts. The number was\", number)\n"
      ],
      "metadata": {
        "colab": {
          "base_uri": "https://localhost:8080/"
        },
        "id": "fx8xGfg2lWmt",
        "outputId": "db45fd0c-7c8a-4494-8e73-3d748ed65748"
      },
      "execution_count": 16,
      "outputs": [
        {
          "output_type": "stream",
          "name": "stdout",
          "text": [
            "Guess the number.\n",
            "Enter your guess: 2\n",
            "Too low!: 9\n",
            "Enter your guess: 2\n",
            "Too low!: 8\n",
            "Enter your guess: 8\n",
            "Too low!: 7\n",
            "Enter your guess: 4\n",
            "Too low!: 6\n",
            "Enter your guess: 6\n",
            "Too low!: 5\n",
            "Enter your guess: 3\n",
            "Too low!: 4\n",
            "Enter your guess: 1\n",
            "Too low!: 3\n",
            "Enter your guess: 5\n",
            "Too low!: 2\n",
            "Enter your guess: 6\n",
            "Too low!: 1\n",
            "Enter your guess: 1\n",
            "Too low!: 0\n",
            "You ran out of attempts. The number was 53\n"
          ]
        }
      ]
    },
    {
      "cell_type": "markdown",
      "source": [
        "# 10. Write a menu driven calculator with following menu:\n",
        "a. Addition\n",
        "\n",
        "b. Subtraction\n",
        "\n",
        "c. Division\n",
        "\n",
        "d. Multiplication\n",
        "\n",
        "e. Exit"
      ],
      "metadata": {
        "id": "MkxywSzymUBr"
      }
    },
    {
      "cell_type": "code",
      "source": [
        "x = int(input(\"Enter the first number : \"))\n",
        "y = int(input(\"Enter the second number : \"))\n",
        "\n",
        "while True:\n",
        "  print(\" 1.Addition\\n\", \"2.Substraction\\n\", \"3.Multiplication\\n\", \"4.Division\\n\",)\n",
        "  z = int(input(\"Enter your choice : \"))\n",
        "  if z == 1:\n",
        "    print(\"Your result is\", x + y)\n",
        "  elif z == 2:\n",
        "    print(\"Your result is\", x - y)\n",
        "  elif z == 3:\n",
        "    print(\"Your result is\", x * y)\n",
        "  elif z== 4:\n",
        "    print(\"Your result is\", x / y)\n",
        "  elif z == 5:\n",
        "    print(\"exit\")\n",
        "    break\n",
        "  else:\n",
        "    print(\"Wrong choice\")"
      ],
      "metadata": {
        "colab": {
          "base_uri": "https://localhost:8080/"
        },
        "id": "4MErmZGKl3gV",
        "outputId": "48799172-2a6e-49c2-9aa8-5607e50f3924"
      },
      "execution_count": 18,
      "outputs": [
        {
          "output_type": "stream",
          "name": "stdout",
          "text": [
            "Enter the first number : 5\n",
            "Enter the second number : 5\n",
            " 1.Addition\n",
            " 2.Substraction\n",
            " 3.Multiplication\n",
            " 4.Division\n",
            "\n",
            "Enter your choice : 3\n",
            "Your result is 25\n",
            " 1.Addition\n",
            " 2.Substraction\n",
            " 3.Multiplication\n",
            " 4.Division\n",
            "\n",
            "Enter your choice : 5\n",
            "exit\n"
          ]
        }
      ]
    },
    {
      "cell_type": "code",
      "source": [],
      "metadata": {
        "id": "ogAh-UUGmsLB"
      },
      "execution_count": null,
      "outputs": []
    }
  ]
}