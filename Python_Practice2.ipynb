{
  "nbformat": 4,
  "nbformat_minor": 0,
  "metadata": {
    "colab": {
      "provenance": [],
      "authorship_tag": "ABX9TyNNPsPAManhA7Ea0U1iIrLh",
      "include_colab_link": true
    },
    "kernelspec": {
      "name": "python3",
      "display_name": "Python 3"
    },
    "language_info": {
      "name": "python"
    }
  },
  "cells": [
    {
      "cell_type": "markdown",
      "metadata": {
        "id": "view-in-github",
        "colab_type": "text"
      },
      "source": [
        "<a href=\"https://colab.research.google.com/github/AvK1002/Python-Problems/blob/main/Python_Practice2.ipynb\" target=\"_parent\"><img src=\"https://colab.research.google.com/assets/colab-badge.svg\" alt=\"Open In Colab\"/></a>"
      ]
    },
    {
      "cell_type": "markdown",
      "source": [
        "# 1. Write a Python program to accept a string value from the user and display the count of each character in that string"
      ],
      "metadata": {
        "id": "lpBXArQvcx2H"
      }
    },
    {
      "cell_type": "code",
      "source": [
        "string = input(\"Enter a string: \")\n",
        "char_count = {}\n",
        "for char in string:\n",
        "  if char in char_count:\n",
        "    char_count[char] += 1\n",
        "  else:\n",
        "    char_count[char] = 1\n",
        "print(\"Count of each character in the string:\")\n",
        "for char, count in char_count.items():\n",
        "  print(char, \":\", count)"
      ],
      "metadata": {
        "colab": {
          "base_uri": "https://localhost:8080/",
          "height": 0
        },
        "id": "vDqcZsyuc_5_",
        "outputId": "f2ddd8df-0f11-4f7c-ba9e-1f058b432059"
      },
      "execution_count": 14,
      "outputs": [
        {
          "output_type": "stream",
          "name": "stdout",
          "text": [
            "Enter a string: assembly\n",
            "Count of each character in the string:\n",
            "a : 1\n",
            "s : 2\n",
            "e : 1\n",
            "m : 1\n",
            "b : 1\n",
            "l : 1\n",
            "y : 1\n"
          ]
        }
      ]
    },
    {
      "cell_type": "markdown",
      "source": [
        "# 2. Write a Python function to find the maximum of three numbers"
      ],
      "metadata": {
        "id": "oi-_xi33dUX8"
      }
    },
    {
      "cell_type": "code",
      "source": [
        "def find_maximum(a, b, c):\n",
        "  return max(a, b, c)\n",
        "\n",
        "# Example usage:\n",
        "num1 = 34\n",
        "num2 = 12\n",
        "num3 = 7\n",
        "maximum = find_maximum(num1, num2, num3)\n",
        "print(\"The maximum number is:\", maximum)\n"
      ],
      "metadata": {
        "colab": {
          "base_uri": "https://localhost:8080/"
        },
        "id": "U6wwlDe_dIXR",
        "outputId": "a03a8b3a-95d8-4d16-ded3-e789d0b81098"
      },
      "execution_count": null,
      "outputs": [
        {
          "output_type": "stream",
          "name": "stdout",
          "text": [
            "The maximum number is: 34\n"
          ]
        }
      ]
    },
    {
      "cell_type": "markdown",
      "source": [
        "# 3. Write a Python function called exponent(base,exp) that returns an integer value of base raises to the power of exp."
      ],
      "metadata": {
        "id": "xxqHyKGPdq-U"
      }
    },
    {
      "cell_type": "code",
      "source": [
        "def exponent(base, exp):\n",
        "  return base ** exp\n",
        "\n",
        "base_number = 2\n",
        "exponent_value = 3\n",
        "result = exponent(base_number, exponent_value)\n",
        "print(base_number, \"raised to the power of\", exponent_value, \"is:\", result)\n"
      ],
      "metadata": {
        "colab": {
          "base_uri": "https://localhost:8080/"
        },
        "id": "Z6CDKk_ddkTP",
        "outputId": "a15ed52b-f790-439a-c890-65d9b1da8db1"
      },
      "execution_count": null,
      "outputs": [
        {
          "output_type": "stream",
          "name": "stdout",
          "text": [
            "2 raised to the power of 3 is: 8\n"
          ]
        }
      ]
    },
    {
      "cell_type": "markdown",
      "source": [
        "# 4. Write a Python function that takes a positive integer and returns the sum of the cube of all the positive integers smaller than the specified number."
      ],
      "metadata": {
        "id": "zUhULHEtd6UZ"
      }
    },
    {
      "cell_type": "code",
      "source": [
        "def sum_of_cubes(n):\n",
        "  sum = 0\n",
        "  for i in range(1, n):\n",
        "    sum += i ** 3\n",
        "  return sum\n",
        "\n",
        "number = 4\n",
        "result = sum_of_cubes(number)\n",
        "print(\"Sum of cubes of numbers smaller than\", number, \"is:\", result)\n"
      ],
      "metadata": {
        "colab": {
          "base_uri": "https://localhost:8080/"
        },
        "id": "gOqjcqBPdyyN",
        "outputId": "8c47cc5f-5f2f-4cbf-aab7-c284685b5800"
      },
      "execution_count": null,
      "outputs": [
        {
          "output_type": "stream",
          "name": "stdout",
          "text": [
            "Sum of cubes of numbers smaller than 4 is: 36\n"
          ]
        }
      ]
    },
    {
      "cell_type": "markdown",
      "source": [
        "# 5. Write a Python program which iterates from 1 to 10. For multiples of 2,print “Fizz” instead of the number and for the multiples of 5, print “Buzz”. For numbers which are multiples of both 2 and 5, print “FizzBuzz”."
      ],
      "metadata": {
        "id": "vapohgdbiquX"
      }
    },
    {
      "cell_type": "code",
      "source": [
        "for i in range(1, 11):\n",
        "  if i % 2 == 0 and i % 5 == 0:\n",
        "    print(\"FizzBuzz\")\n",
        "  elif i % 2 == 0:\n",
        "    print(\"Fizz\")\n",
        "  elif i % 5 == 0:\n",
        "    print(\"Buzz\")\n",
        "  else:\n",
        "    print(i)\n"
      ],
      "metadata": {
        "colab": {
          "base_uri": "https://localhost:8080/"
        },
        "id": "fu5F2650d_PI",
        "outputId": "722d856a-fb6f-4953-beb6-f3a68235a591"
      },
      "execution_count": null,
      "outputs": [
        {
          "output_type": "stream",
          "name": "stdout",
          "text": [
            "1\n",
            "Fizz\n",
            "3\n",
            "Fizz\n",
            "Buzz\n",
            "Fizz\n",
            "7\n",
            "Fizz\n",
            "9\n",
            "FizzBuzz\n"
          ]
        }
      ]
    },
    {
      "cell_type": "markdown",
      "source": [
        "# 6. Write a Python program to find the most frequent item in a list of numbers."
      ],
      "metadata": {
        "id": "kdJv2VQDyaKB"
      }
    },
    {
      "cell_type": "code",
      "source": [
        "from collections import Counter\n",
        "\n",
        "def most_frequent(numbers):\n",
        "  count = Counter(numbers)\n",
        "  return count.most_common(1)[0][0]\n",
        "\n",
        "numbers = [1, 2, 3, 2, 4, 2, 5, 1, 2]\n",
        "most_frequent_number = most_frequent(numbers)\n",
        "print(\"The most frequent number is:\", most_frequent_number)"
      ],
      "metadata": {
        "id": "7ZoF1p1Ci6b4",
        "colab": {
          "base_uri": "https://localhost:8080/"
        },
        "outputId": "b2bbb24e-8d19-470d-b64e-7d834c70fcdf"
      },
      "execution_count": null,
      "outputs": [
        {
          "output_type": "stream",
          "name": "stdout",
          "text": [
            "The most frequent number is: 2\n"
          ]
        }
      ]
    },
    {
      "cell_type": "markdown",
      "source": [
        "# 7. Write a Python program to find the sum of squares of the numbers in a list."
      ],
      "metadata": {
        "id": "ORBEwNR28fEF"
      }
    },
    {
      "cell_type": "code",
      "source": [
        "def sum_of_squares(numbers):\n",
        "  sum = 0\n",
        "  for number in numbers:\n",
        "    sum += number ** 2\n",
        "  return sum\n",
        "\n",
        "numbers = [2,1,3,1]\n",
        "result = sum_of_squares(numbers)\n",
        "print(\"The sum of squares is:\", result)\n"
      ],
      "metadata": {
        "colab": {
          "base_uri": "https://localhost:8080/"
        },
        "id": "9rhyPcgszarC",
        "outputId": "b468a06e-14af-4173-b82b-651a20c7abb7"
      },
      "execution_count": null,
      "outputs": [
        {
          "output_type": "stream",
          "name": "stdout",
          "text": [
            "The sum of squares is: 15\n"
          ]
        }
      ]
    },
    {
      "cell_type": "markdown",
      "source": [
        "# 8. Write a Python program using for loop that will iterate from 1 to 15. For each iteration, check if the current number is odd or even, and display the message to the screen as odd or even."
      ],
      "metadata": {
        "id": "6XTd_cZq85A3"
      }
    },
    {
      "cell_type": "code",
      "source": [
        "for i in range(1, 16):\n",
        "  if i % 2 == 0:\n",
        "    print(i, \"is even\")\n",
        "  else:\n",
        "    print(i, \"is odd\")\n"
      ],
      "metadata": {
        "colab": {
          "base_uri": "https://localhost:8080/"
        },
        "id": "UT5Us7VU8wGP",
        "outputId": "6cef2fd8-fa4e-4b83-d12f-0753a18b7139"
      },
      "execution_count": null,
      "outputs": [
        {
          "output_type": "stream",
          "name": "stdout",
          "text": [
            "1 is odd\n",
            "2 is even\n",
            "3 is odd\n",
            "4 is even\n",
            "5 is odd\n",
            "6 is even\n",
            "7 is odd\n",
            "8 is even\n",
            "9 is odd\n",
            "10 is even\n",
            "11 is odd\n",
            "12 is even\n",
            "13 is odd\n",
            "14 is even\n",
            "15 is odd\n"
          ]
        }
      ]
    },
    {
      "cell_type": "markdown",
      "source": [
        "# 9. Write a Python program to convert temperatures to and from Celsius Fahrenheit."
      ],
      "metadata": {
        "id": "3ZQvW2uy9EQd"
      }
    },
    {
      "cell_type": "code",
      "source": [
        "def celsius_to_fahrenheit(celsius):\n",
        "  fahrenheit = (celsius * 9/5) + 32\n",
        "  return fahrenheit\n",
        "\n",
        "def fahrenheit_to_celsius(fahrenheit):\n",
        "  celsius = (fahrenheit - 32) * 5/9\n",
        "  return celsius\n",
        "\n",
        "celsius = 5\n",
        "fahrenheit = celsius_to_fahrenheit(celsius)\n",
        "print(\"Temperature in Fahrenheit:\", fahrenheit)\n",
        "\n",
        "fahrenheit = 41\n",
        "celsius = fahrenheit_to_celsius(fahrenheit)\n",
        "print(\"Temperature in celsius\",celsius)\n",
        "\n"
      ],
      "metadata": {
        "colab": {
          "base_uri": "https://localhost:8080/",
          "height": 0
        },
        "id": "I0GoG8ly9UJP",
        "outputId": "375fde83-42ac-4dbd-b02f-2805e2d52459"
      },
      "execution_count": 15,
      "outputs": [
        {
          "output_type": "stream",
          "name": "stdout",
          "text": [
            "Temperature in Fahrenheit: 41.0\n",
            "Temperature in celsius 5.0\n"
          ]
        }
      ]
    },
    {
      "cell_type": "markdown",
      "source": [
        "# 10. Write a Python function to calculate the factorial of a number (a nonnegative integer). The function accepts the number as an argument."
      ],
      "metadata": {
        "id": "hk-EniCO-QLk"
      }
    },
    {
      "cell_type": "code",
      "source": [
        "def factorial(n):\n",
        "  if n == 0:\n",
        "    return 1\n",
        "  else:\n",
        "    return n * factorial(n - 1)\n",
        "\n",
        "number = 3\n",
        "result = factorial(number)\n",
        "print(\"The factorial of\", number, \"is:\", result)"
      ],
      "metadata": {
        "colab": {
          "base_uri": "https://localhost:8080/"
        },
        "id": "aFavYz-T-bC6",
        "outputId": "ba37bed5-82e4-462e-cfda-37d19e45007f"
      },
      "execution_count": null,
      "outputs": [
        {
          "output_type": "stream",
          "name": "stdout",
          "text": [
            "The factorial of 3 is: 6\n"
          ]
        }
      ]
    },
    {
      "cell_type": "code",
      "source": [],
      "metadata": {
        "id": "OtVCjB0N-biu"
      },
      "execution_count": null,
      "outputs": []
    }
  ]
}