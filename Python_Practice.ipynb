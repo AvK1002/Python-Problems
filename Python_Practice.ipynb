{
  "nbformat": 4,
  "nbformat_minor": 0,
  "metadata": {
    "colab": {
      "provenance": [],
      "authorship_tag": "ABX9TyOgdlrJ3CrbxgOyNzCCF1Qz",
      "include_colab_link": true
    },
    "kernelspec": {
      "name": "python3",
      "display_name": "Python 3"
    },
    "language_info": {
      "name": "python"
    }
  },
  "cells": [
    {
      "cell_type": "markdown",
      "metadata": {
        "id": "view-in-github",
        "colab_type": "text"
      },
      "source": [
        "<a href=\"https://colab.research.google.com/github/AvK1002/Python-Problems/blob/main/Python_Practice.ipynb\" target=\"_parent\"><img src=\"https://colab.research.google.com/assets/colab-badge.svg\" alt=\"Open In Colab\"/></a>"
      ]
    },
    {
      "cell_type": "markdown",
      "source": [
        "# 1. Write a Python program which accepts the radius of a circle from the user and compute the area"
      ],
      "metadata": {
        "id": "5XpLZllDN_Yv"
      }
    },
    {
      "cell_type": "code",
      "execution_count": null,
      "metadata": {
        "colab": {
          "base_uri": "https://localhost:8080/"
        },
        "id": "Y8Nrh4RiN5ZL",
        "outputId": "5c991ba2-cd3e-423c-db41-946d4a909d9f"
      },
      "outputs": [
        {
          "output_type": "stream",
          "name": "stdout",
          "text": [
            "Enter the radious of the circle :3\n",
            "Area of the circle is : 28.26\n"
          ]
        }
      ],
      "source": [
        "r = int(input(\"Enter the radious of the circle :\"))\n",
        "area = 3.14*(r**2)\n",
        "print(\"Area of the circle is :\",area)"
      ]
    },
    {
      "cell_type": "markdown",
      "source": [
        "# 2. Write a Python Program to accept the details of a student like name, roll number and mark and display it"
      ],
      "metadata": {
        "id": "rWMmYOwKOzJL"
      }
    },
    {
      "cell_type": "code",
      "source": [
        "name = input(\"Enter the name of the student :\")\n",
        "roll_no = int(input(\"Enter the roll number of the student :\"))\n",
        "mark = int(input(\"Enter the mark of the student :\"))\n",
        "print(\"Name :\",name)\n",
        "print(\"Roll No :\",roll_no)\n",
        "print(\"Mark :\",mark)"
      ],
      "metadata": {
        "colab": {
          "base_uri": "https://localhost:8080/"
        },
        "id": "Iat72QGMOnvw",
        "outputId": "9adab977-f55d-4f7f-f4b9-1401e320b206"
      },
      "execution_count": 1,
      "outputs": [
        {
          "output_type": "stream",
          "name": "stdout",
          "text": [
            "Enter the name of the student :Anisha\n",
            "Enter the roll number of the student :21\n",
            "Enter the mark of the student :78\n",
            "Name : Anisha\n",
            "Roll No : 21\n",
            "Mark : 78\n"
          ]
        }
      ]
    },
    {
      "cell_type": "markdown",
      "source": [
        "# Write a Python program to get the largest number from a list.\n"
      ],
      "metadata": {
        "id": "NK_gdIOUPH05"
      }
    },
    {
      "cell_type": "code",
      "source": [
        "def largest_number(numbers):\n",
        "    if not numbers:\n",
        "        return None\n",
        "    largest = numbers[0]\n",
        "    for number in numbers:\n",
        "        if number > largest:\n",
        "            largest = number\n",
        "    return largest"
      ],
      "metadata": {
        "id": "PyNzsb51PBK8"
      },
      "execution_count": null,
      "outputs": []
    },
    {
      "cell_type": "code",
      "source": [
        "numbers = [12, 3, 47, 10]\n",
        "print(largest_number(numbers),\"is the largest number\")"
      ],
      "metadata": {
        "colab": {
          "base_uri": "https://localhost:8080/"
        },
        "id": "VWZckpRJPZMI",
        "outputId": "5cb1d42f-7cc3-4f22-a9a6-586a2179450e"
      },
      "execution_count": null,
      "outputs": [
        {
          "output_type": "stream",
          "name": "stdout",
          "text": [
            "47 is the largest number\n"
          ]
        }
      ]
    },
    {
      "cell_type": "markdown",
      "source": [
        "# 4. Given a range of first 10 numbers, write a Python program to iterate from start number to the end number and print the sum of the current number and previous number."
      ],
      "metadata": {
        "id": "G0uifzZeSCpG"
      }
    },
    {
      "cell_type": "code",
      "source": [
        "number = range(10)\n",
        "previous_number = 0\n",
        "for i in number:\n",
        "    sum = previous_number + i\n",
        "    print(\"Current Number\",i,\"Previous Number\",previous_number,\"Sum:\",sum)\n",
        "    previous_number = i"
      ],
      "metadata": {
        "colab": {
          "base_uri": "https://localhost:8080/"
        },
        "id": "sr6BPHGiQyjT",
        "outputId": "ce3aa6c1-2eb1-4194-b566-7d6d62748091"
      },
      "execution_count": null,
      "outputs": [
        {
          "output_type": "stream",
          "name": "stdout",
          "text": [
            "Current Number 0 Previous Number 0 Sum: 0\n",
            "Current Number 1 Previous Number 0 Sum: 1\n",
            "Current Number 2 Previous Number 1 Sum: 3\n",
            "Current Number 3 Previous Number 2 Sum: 5\n",
            "Current Number 4 Previous Number 3 Sum: 7\n",
            "Current Number 5 Previous Number 4 Sum: 9\n",
            "Current Number 6 Previous Number 5 Sum: 11\n",
            "Current Number 7 Previous Number 6 Sum: 13\n",
            "Current Number 8 Previous Number 7 Sum: 15\n",
            "Current Number 9 Previous Number 8 Sum: 17\n"
          ]
        }
      ]
    },
    {
      "cell_type": "markdown",
      "source": [
        "# 5. Write a Python program to print only those numbers which are divisible of 5."
      ],
      "metadata": {
        "id": "ABy59MVHS1qm"
      }
    },
    {
      "cell_type": "code",
      "source": [
        "numbers = [10, 20, 33, 46, 55]\n",
        "def print_divisible_by_5(numbers):\n",
        "    result = [num for num in numbers if num % 5 == 0]\n",
        "    print(result)\n",
        "\n",
        "print_divisible_by_5(numbers)\n"
      ],
      "metadata": {
        "colab": {
          "base_uri": "https://localhost:8080/"
        },
        "id": "1tQ4MUkrSo9F",
        "outputId": "a40dcc21-9ef0-49ef-be24-b4acf151fd66"
      },
      "execution_count": null,
      "outputs": [
        {
          "output_type": "stream",
          "name": "stdout",
          "text": [
            "[10, 20, 55]\n"
          ]
        }
      ]
    },
    {
      "cell_type": "markdown",
      "source": [
        "# 6. Write a Python program to check whether a number is prime or not."
      ],
      "metadata": {
        "id": "LEiOuozfTHPX"
      }
    },
    {
      "cell_type": "code",
      "source": [
        "num = int(input(\"Enter a number: \"))\n",
        "if num > 1:\n",
        "    for i in range(2, (num//2)+1):\n",
        "        if (num % i) == 0:\n",
        "            print(num, \"is not a prime number\")\n",
        "            break\n",
        "    else:\n",
        "        print(num, \"is a prime number\")\n",
        "else:\n",
        "    print(num, \"is not a prime number\")\n"
      ],
      "metadata": {
        "colab": {
          "base_uri": "https://localhost:8080/"
        },
        "id": "WoBRtV11TCMx",
        "outputId": "c1102259-941c-47e9-9824-0e1785e7e9cc"
      },
      "execution_count": null,
      "outputs": [
        {
          "output_type": "stream",
          "name": "stdout",
          "text": [
            "Enter a number: 3\n",
            "3 is a prime number\n"
          ]
        }
      ]
    },
    {
      "cell_type": "markdown",
      "source": [
        "# 7. Write a Python program to reverse a list using for loop."
      ],
      "metadata": {
        "id": "Z66BaO1nVjuT"
      }
    },
    {
      "cell_type": "code",
      "source": [
        "num = [10,40,30,70 ]\n",
        "reverse_num = []\n",
        "for i in num:\n",
        "    reverse_num.insert(0,i)\n",
        "print(reverse_num)"
      ],
      "metadata": {
        "colab": {
          "base_uri": "https://localhost:8080/"
        },
        "id": "dzwOivh5VDmX",
        "outputId": "b8c258e1-6bb1-4093-b2a4-7f83cdb27b04"
      },
      "execution_count": null,
      "outputs": [
        {
          "output_type": "stream",
          "name": "stdout",
          "text": [
            "[70, 30, 40, 10]\n"
          ]
        }
      ]
    },
    {
      "cell_type": "markdown",
      "source": [
        "# 8.Write a Python program to print the following pattern."
      ],
      "metadata": {
        "id": "zZadrCliV5gP"
      }
    },
    {
      "cell_type": "code",
      "source": [
        "n = 4\n",
        "for i in range(1, n + 1):\n",
        "    print('*' * i)\n"
      ],
      "metadata": {
        "colab": {
          "base_uri": "https://localhost:8080/"
        },
        "id": "aaQWGA5gVtgm",
        "outputId": "cf59b8f5-b71f-4152-b76c-3b227c37cf1c"
      },
      "execution_count": null,
      "outputs": [
        {
          "output_type": "stream",
          "name": "stdout",
          "text": [
            "*\n",
            "**\n",
            "***\n",
            "****\n"
          ]
        }
      ]
    },
    {
      "cell_type": "markdown",
      "source": [
        "# 9. Write a Python program to find the maximum of three numbers"
      ],
      "metadata": {
        "id": "8BscLfWPWZS_"
      }
    },
    {
      "cell_type": "code",
      "source": [
        "num = [34,12,7]\n",
        "max_num = num[0]\n",
        "for i in num:\n",
        "    if i > max_num:\n",
        "        max_num = i\n",
        "print(max_num)"
      ],
      "metadata": {
        "colab": {
          "base_uri": "https://localhost:8080/"
        },
        "id": "2bCjmC9KWJ1v",
        "outputId": "84b47b96-1334-44b5-a59f-66bf83ebe417"
      },
      "execution_count": null,
      "outputs": [
        {
          "output_type": "stream",
          "name": "stdout",
          "text": [
            "34\n"
          ]
        }
      ]
    },
    {
      "cell_type": "markdown",
      "source": [
        "# Write a Python program to construct the following pattern, using a nested for loop."
      ],
      "metadata": {
        "id": "RkUyRMw6Wkbo"
      }
    },
    {
      "cell_type": "code",
      "source": [
        "n = 5\n",
        "for i in range(1, n + 1):\n",
        "    print('*' * i)\n",
        "for i in range(n - 1, 0, -1):\n",
        "    print('*' * i)\n"
      ],
      "metadata": {
        "colab": {
          "base_uri": "https://localhost:8080/"
        },
        "id": "-X8JacIPWixo",
        "outputId": "f1a05a34-041c-4700-af32-8433439a1c61"
      },
      "execution_count": null,
      "outputs": [
        {
          "output_type": "stream",
          "name": "stdout",
          "text": [
            "*\n",
            "**\n",
            "***\n",
            "****\n",
            "*****\n",
            "****\n",
            "***\n",
            "**\n",
            "*\n"
          ]
        }
      ]
    },
    {
      "cell_type": "code",
      "source": [],
      "metadata": {
        "id": "pBYwxidXW4EY"
      },
      "execution_count": null,
      "outputs": []
    }
  ]
}